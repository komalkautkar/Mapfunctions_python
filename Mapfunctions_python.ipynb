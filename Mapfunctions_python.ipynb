{
 "cells": [
  {
   "cell_type": "code",
   "execution_count": 1,
   "id": "80e366ad",
   "metadata": {},
   "outputs": [
    {
     "data": {
      "text/plain": [
       "[2, 4, 6, 8, 10]"
      ]
     },
     "execution_count": 1,
     "metadata": {},
     "output_type": "execute_result"
    }
   ],
   "source": [
    "numbers=(1,2,3,4,5)\n",
    "res=map(lambda x:x+x,numbers)\n",
    "list(res)"
   ]
  },
  {
   "cell_type": "code",
   "execution_count": 2,
   "id": "8f310fa4",
   "metadata": {},
   "outputs": [
    {
     "data": {
      "text/plain": [
       "[5, 7, 9]"
      ]
     },
     "execution_count": 2,
     "metadata": {},
     "output_type": "execute_result"
    }
   ],
   "source": [
    "numbers1=[1,2,3]\n",
    "numbers2=[4,5,6]\n",
    "res=map(lambda x,y:x+y,numbers1,numbers2)\n",
    "list(res)"
   ]
  },
  {
   "cell_type": "code",
   "execution_count": 3,
   "id": "3e575904",
   "metadata": {},
   "outputs": [
    {
     "data": {
      "text/plain": [
       "[['A', 'p', 'p', 'l', 'e'],\n",
       " ['i', 'p', 'h', 'o', 'n', 'e'],\n",
       " ['s', 'a', 'm', 's', 'a', 'n', 'g']]"
      ]
     },
     "execution_count": 3,
     "metadata": {},
     "output_type": "execute_result"
    }
   ],
   "source": [
    "list1=[\"Apple\",\"iphone\",\"samsang\"]\n",
    "res1=list(map(list,list1))\n",
    "res1"
   ]
  },
  {
   "cell_type": "code",
   "execution_count": null,
   "id": "88efb3b8",
   "metadata": {},
   "outputs": [],
   "source": []
  }
 ],
 "metadata": {
  "kernelspec": {
   "display_name": "Python 3 (ipykernel)",
   "language": "python",
   "name": "python3"
  },
  "language_info": {
   "codemirror_mode": {
    "name": "ipython",
    "version": 3
   },
   "file_extension": ".py",
   "mimetype": "text/x-python",
   "name": "python",
   "nbconvert_exporter": "python",
   "pygments_lexer": "ipython3",
   "version": "3.11.5"
  }
 },
 "nbformat": 4,
 "nbformat_minor": 5
}
